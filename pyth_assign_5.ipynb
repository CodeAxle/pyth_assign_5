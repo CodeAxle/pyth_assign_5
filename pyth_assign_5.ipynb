{
 "cells": [
  {
   "cell_type": "markdown",
   "id": "fcb97794",
   "metadata": {},
   "source": [
    "# 1."
   ]
  },
  {
   "cell_type": "code",
   "execution_count": 1,
   "id": "a34ad1ff",
   "metadata": {},
   "outputs": [],
   "source": [
    "Dict = {} # empty dictionary"
   ]
  },
  {
   "cell_type": "markdown",
   "id": "2f2c569b",
   "metadata": {},
   "source": [
    "# 2."
   ]
  },
  {
   "cell_type": "code",
   "execution_count": 7,
   "id": "6236462a",
   "metadata": {},
   "outputs": [
    {
     "name": "stdout",
     "output_type": "stream",
     "text": [
      "42\n"
     ]
    }
   ],
   "source": [
    "d = {'foo':42}\n",
    "print(d['foo'])"
   ]
  },
  {
   "cell_type": "markdown",
   "id": "2c627280",
   "metadata": {},
   "source": [
    "# 3."
   ]
  },
  {
   "cell_type": "code",
   "execution_count": 8,
   "id": "b14c301c",
   "metadata": {},
   "outputs": [],
   "source": [
    "#list : list takes a single element input\n",
    "#dictionay : dictionary takes both key and value pair as input"
   ]
  },
  {
   "cell_type": "markdown",
   "id": "46b7cd58",
   "metadata": {},
   "source": [
    "# 4."
   ]
  },
  {
   "cell_type": "code",
   "execution_count": 18,
   "id": "aeb40bb0",
   "metadata": {},
   "outputs": [],
   "source": [
    "spam = {'bar':100}\n",
    "# print(spam['foo']) # return KeyError: 'foo'"
   ]
  },
  {
   "cell_type": "markdown",
   "id": "31ea6b53",
   "metadata": {},
   "source": [
    "# 5."
   ]
  },
  {
   "cell_type": "code",
   "execution_count": 13,
   "id": "f9fe01f8",
   "metadata": {},
   "outputs": [
    {
     "name": "stdout",
     "output_type": "stream",
     "text": [
      "pet\n"
     ]
    }
   ],
   "source": [
    "spam = {'cat':'pet'}\n",
    "print(spam['cat']) # prints the value assigned to key 'cat' as 'pet'."
   ]
  },
  {
   "cell_type": "code",
   "execution_count": 14,
   "id": "8943c383",
   "metadata": {},
   "outputs": [
    {
     "name": "stdout",
     "output_type": "stream",
     "text": [
      "dict_keys(['cat'])\n"
     ]
    }
   ],
   "source": [
    "print(spam.keys()) #prints the only the keys in dictionary(here 'cat'). "
   ]
  },
  {
   "cell_type": "markdown",
   "id": "74c60478",
   "metadata": {},
   "source": [
    "# 6."
   ]
  },
  {
   "cell_type": "code",
   "execution_count": 19,
   "id": "b718c8df",
   "metadata": {},
   "outputs": [
    {
     "name": "stdout",
     "output_type": "stream",
     "text": [
      "pet\n"
     ]
    }
   ],
   "source": [
    "spam = {'cat':'pet'}\n",
    "print(spam['cat']) # prints the value assigned to key 'cat' as 'pet'."
   ]
  },
  {
   "cell_type": "code",
   "execution_count": 20,
   "id": "07e91159",
   "metadata": {},
   "outputs": [
    {
     "name": "stdout",
     "output_type": "stream",
     "text": [
      "dict_values(['pet'])\n"
     ]
    }
   ],
   "source": [
    "print(spam.values()) #prints the only the values in dictionary(here 'pet'). "
   ]
  },
  {
   "cell_type": "markdown",
   "id": "8c610d39",
   "metadata": {},
   "source": [
    "# 7."
   ]
  },
  {
   "cell_type": "code",
   "execution_count": 21,
   "id": "567e6665",
   "metadata": {},
   "outputs": [
    {
     "data": {
      "text/plain": [
       "'black'"
      ]
     },
     "execution_count": 21,
     "metadata": {},
     "output_type": "execute_result"
    }
   ],
   "source": [
    "# This code checks if the key 'color' exists in the spam dictionary. If it doesn't exist, it adds the key 'color' \n",
    "# with the value 'black' to the dictionary spam. If the key already exists, it does not modify the existing value.\n",
    "spam.setdefault('color', 'black')"
   ]
  },
  {
   "cell_type": "markdown",
   "id": "691cf63b",
   "metadata": {},
   "source": [
    "# 8."
   ]
  },
  {
   "cell_type": "code",
   "execution_count": 22,
   "id": "50d780b1",
   "metadata": {},
   "outputs": [
    {
     "name": "stdout",
     "output_type": "stream",
     "text": [
      "{'age': 30, 'city': 'New York', 'name': 'John'}\n"
     ]
    }
   ],
   "source": [
    "# To \"pretty print\" dictionary values in Python, we use the pprint module \n",
    "import pprint\n",
    "\n",
    "my_dict = {'name': 'John', 'age': 30, 'city': 'New York'}\n",
    "\n",
    "pprint.pprint(my_dict)"
   ]
  },
  {
   "cell_type": "code",
   "execution_count": null,
   "id": "94d0cb2c",
   "metadata": {},
   "outputs": [],
   "source": []
  }
 ],
 "metadata": {
  "kernelspec": {
   "display_name": "Python 3 (ipykernel)",
   "language": "python",
   "name": "python3"
  },
  "language_info": {
   "codemirror_mode": {
    "name": "ipython",
    "version": 3
   },
   "file_extension": ".py",
   "mimetype": "text/x-python",
   "name": "python",
   "nbconvert_exporter": "python",
   "pygments_lexer": "ipython3",
   "version": "3.11.5"
  }
 },
 "nbformat": 4,
 "nbformat_minor": 5
}
